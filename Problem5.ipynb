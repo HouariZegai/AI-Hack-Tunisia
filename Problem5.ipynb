{
 "cells": [
  {
   "cell_type": "code",
   "execution_count": 303,
   "metadata": {},
   "outputs": [],
   "source": [
    "# import libraries\n",
    "import numpy as np\n",
    "import pandas as pd\n",
    "import matplotlib.pyplot as plt\n",
    "import seaborn as sns"
   ]
  },
  {
   "cell_type": "code",
   "execution_count": 304,
   "metadata": {
    "scrolled": true
   },
   "outputs": [
    {
     "data": {
      "text/html": [
       "<div>\n",
       "<style scoped>\n",
       "    .dataframe tbody tr th:only-of-type {\n",
       "        vertical-align: middle;\n",
       "    }\n",
       "\n",
       "    .dataframe tbody tr th {\n",
       "        vertical-align: top;\n",
       "    }\n",
       "\n",
       "    .dataframe thead th {\n",
       "        text-align: right;\n",
       "    }\n",
       "</style>\n",
       "<table border=\"1\" class=\"dataframe\">\n",
       "  <thead>\n",
       "    <tr style=\"text-align: right;\">\n",
       "      <th></th>\n",
       "      <th>ID</th>\n",
       "      <th>DATOP</th>\n",
       "      <th>FLTID</th>\n",
       "      <th>DEPSTN</th>\n",
       "      <th>ARRSTN</th>\n",
       "      <th>STD</th>\n",
       "      <th>STA</th>\n",
       "      <th>STATUS</th>\n",
       "      <th>AC</th>\n",
       "      <th>target</th>\n",
       "    </tr>\n",
       "  </thead>\n",
       "  <tbody>\n",
       "    <tr>\n",
       "      <th>0</th>\n",
       "      <td>train_id_0</td>\n",
       "      <td>2016-01-03</td>\n",
       "      <td>TU 0712</td>\n",
       "      <td>CMN</td>\n",
       "      <td>TUN</td>\n",
       "      <td>2016-01-03 10:30:00</td>\n",
       "      <td>2016-01-03 12.55.00</td>\n",
       "      <td>ATA</td>\n",
       "      <td>TU 32AIMN</td>\n",
       "      <td>260.0</td>\n",
       "    </tr>\n",
       "    <tr>\n",
       "      <th>1</th>\n",
       "      <td>train_id_1</td>\n",
       "      <td>2016-01-13</td>\n",
       "      <td>TU 0757</td>\n",
       "      <td>MXP</td>\n",
       "      <td>TUN</td>\n",
       "      <td>2016-01-13 15:05:00</td>\n",
       "      <td>2016-01-13 16.55.00</td>\n",
       "      <td>ATA</td>\n",
       "      <td>TU 31BIMO</td>\n",
       "      <td>20.0</td>\n",
       "    </tr>\n",
       "    <tr>\n",
       "      <th>2</th>\n",
       "      <td>train_id_2</td>\n",
       "      <td>2016-01-16</td>\n",
       "      <td>TU 0214</td>\n",
       "      <td>TUN</td>\n",
       "      <td>IST</td>\n",
       "      <td>2016-01-16 04:10:00</td>\n",
       "      <td>2016-01-16 06.45.00</td>\n",
       "      <td>ATA</td>\n",
       "      <td>TU 32AIMN</td>\n",
       "      <td>0.0</td>\n",
       "    </tr>\n",
       "    <tr>\n",
       "      <th>3</th>\n",
       "      <td>train_id_3</td>\n",
       "      <td>2016-01-17</td>\n",
       "      <td>TU 0480</td>\n",
       "      <td>DJE</td>\n",
       "      <td>NTE</td>\n",
       "      <td>2016-01-17 14:10:00</td>\n",
       "      <td>2016-01-17 17.00.00</td>\n",
       "      <td>ATA</td>\n",
       "      <td>TU 736IOK</td>\n",
       "      <td>0.0</td>\n",
       "    </tr>\n",
       "    <tr>\n",
       "      <th>4</th>\n",
       "      <td>train_id_4</td>\n",
       "      <td>2016-01-17</td>\n",
       "      <td>TU 0338</td>\n",
       "      <td>TUN</td>\n",
       "      <td>ALG</td>\n",
       "      <td>2016-01-17 14:30:00</td>\n",
       "      <td>2016-01-17 15.50.00</td>\n",
       "      <td>ATA</td>\n",
       "      <td>TU 320IMU</td>\n",
       "      <td>22.0</td>\n",
       "    </tr>\n",
       "  </tbody>\n",
       "</table>\n",
       "</div>"
      ],
      "text/plain": [
       "           ID       DATOP     FLTID DEPSTN ARRSTN                  STD  \\\n",
       "0  train_id_0  2016-01-03  TU 0712     CMN    TUN  2016-01-03 10:30:00   \n",
       "1  train_id_1  2016-01-13  TU 0757     MXP    TUN  2016-01-13 15:05:00   \n",
       "2  train_id_2  2016-01-16  TU 0214     TUN    IST  2016-01-16 04:10:00   \n",
       "3  train_id_3  2016-01-17  TU 0480     DJE    NTE  2016-01-17 14:10:00   \n",
       "4  train_id_4  2016-01-17  TU 0338     TUN    ALG  2016-01-17 14:30:00   \n",
       "\n",
       "                   STA STATUS         AC  target  \n",
       "0  2016-01-03 12.55.00    ATA  TU 32AIMN   260.0  \n",
       "1  2016-01-13 16.55.00    ATA  TU 31BIMO    20.0  \n",
       "2  2016-01-16 06.45.00    ATA  TU 32AIMN     0.0  \n",
       "3  2016-01-17 17.00.00    ATA  TU 736IOK     0.0  \n",
       "4  2016-01-17 15.50.00    ATA  TU 320IMU    22.0  "
      ]
     },
     "execution_count": 304,
     "metadata": {},
     "output_type": "execute_result"
    }
   ],
   "source": [
    "dataset = pd.read_csv('datasets/Train.csv')\n",
    "test = pd.read_csv('datasets/Test.csv')\n",
    "data = pd.concat([dataset, test], axis = 0, sort=False)\n",
    "# submission = pd.read_csv('datasets/SampleSubmission.csv')\n",
    "# test.head()\n",
    "# submission.head()\n",
    "data.head()"
   ]
  },
  {
   "cell_type": "code",
   "execution_count": 305,
   "metadata": {
    "scrolled": true
   },
   "outputs": [
    {
     "data": {
      "text/plain": [
       "TU 320IMW    5084\n",
       "TU 320IMT    5017\n",
       "TU 320IMU    5006\n",
       "TU 320IMR    4997\n",
       "TU 320IMV    4989\n",
       "Name: AC, dtype: int64"
      ]
     },
     "execution_count": 305,
     "metadata": {},
     "output_type": "execute_result"
    }
   ],
   "source": [
    "data.AC.value_counts().head()"
   ]
  },
  {
   "cell_type": "code",
   "execution_count": 306,
   "metadata": {},
   "outputs": [],
   "source": [
    "#dataset.DEPSTN.value_counts()\n",
    "stn_most = ['TUN', 'DJE', 'ORY', 'MIR', 'MRS', 'LYS', 'NCE', 'ALG', 'MXP', 'IST']\n",
    "\n",
    "data.DEPSTN = data.DEPSTN.apply(lambda x: 'Other' if x in stn_most else x)\n",
    "data.ARRSTN = data.ARRSTN.apply(lambda x: 'Other' if x in stn_most else x)"
   ]
  },
  {
   "cell_type": "code",
   "execution_count": null,
   "metadata": {},
   "outputs": [],
   "source": []
  },
  {
   "cell_type": "code",
   "execution_count": 307,
   "metadata": {},
   "outputs": [
    {
     "data": {
      "text/plain": [
       "Other    83404\n",
       "FRA       1497\n",
       "BRU       1480\n",
       "CMN       1472\n",
       "FCO       1376\n",
       "TOE       1355\n",
       "CDG       1270\n",
       "JED       1247\n",
       "GVA       1206\n",
       "SFA       1013\n",
       "Name: ARRSTN, dtype: int64"
      ]
     },
     "execution_count": 307,
     "metadata": {},
     "output_type": "execute_result"
    }
   ],
   "source": [
    "data.ARRSTN.value_counts().head(10)"
   ]
  },
  {
   "cell_type": "code",
   "execution_count": 308,
   "metadata": {
    "scrolled": true
   },
   "outputs": [
    {
     "data": {
      "text/plain": [
       "ID           0\n",
       "DATOP        0\n",
       "FLTID        0\n",
       "DEPSTN       0\n",
       "ARRSTN       0\n",
       "STD          0\n",
       "STA          0\n",
       "STATUS       0\n",
       "AC           0\n",
       "target    9333\n",
       "dtype: int64"
      ]
     },
     "execution_count": 308,
     "metadata": {},
     "output_type": "execute_result"
    }
   ],
   "source": [
    "data.isnull().sum()"
   ]
  },
  {
   "cell_type": "markdown",
   "metadata": {},
   "source": [
    "### Preprocessing"
   ]
  },
  {
   "cell_type": "code",
   "execution_count": 309,
   "metadata": {},
   "outputs": [],
   "source": [
    "data.STA = data.STA.str.replace(\".\", \":\")"
   ]
  },
  {
   "cell_type": "code",
   "execution_count": 310,
   "metadata": {},
   "outputs": [],
   "source": [
    "# X = X.drop(['DATOP', 'STD', 'STA'], axis = 1)\n",
    "data.DATOP = pd.to_datetime(data.DATOP)\n",
    "data.STD = pd.to_datetime(data.STD)\n",
    "data.STA = pd.to_datetime(data.STA)\n",
    "#data.head()"
   ]
  },
  {
   "cell_type": "code",
   "execution_count": 311,
   "metadata": {},
   "outputs": [],
   "source": [
    "# split date in new columns\n",
    "def split_date_col(d, col_name):\n",
    "    d[col_name + '_year'] = d[col_name].dt.year\n",
    "    d[col_name + '_month'] = d[col_name].dt.month\n",
    "    d[col_name + '_day'] = d[col_name].dt.day\n",
    "    d[col_name + '_h'] = d[col_name].dt.hour\n",
    "    d[col_name + '_m'] = d[col_name].dt.minute\n",
    "    #d[col_name + '_s'] = d[col_name].dt.second\n",
    "    return d\n",
    "\n",
    "#data['DATOP_year'] = data['DATOP'].dt.year\n",
    "#data['DATOP_month'] = data['DATOP'].dt.month\n",
    "#data['DATOP_day'] = data['DATOP'].dt.day\n",
    "\n",
    "data = split_date_col(data, 'STD')\n",
    "data = split_date_col(data, 'STA')\n",
    "\n",
    "data = data.drop(['DATOP', 'STD', 'STA'], axis = 1)"
   ]
  },
  {
   "cell_type": "code",
   "execution_count": 312,
   "metadata": {},
   "outputs": [
    {
     "data": {
      "text/html": [
       "<div>\n",
       "<style scoped>\n",
       "    .dataframe tbody tr th:only-of-type {\n",
       "        vertical-align: middle;\n",
       "    }\n",
       "\n",
       "    .dataframe tbody tr th {\n",
       "        vertical-align: top;\n",
       "    }\n",
       "\n",
       "    .dataframe thead th {\n",
       "        text-align: right;\n",
       "    }\n",
       "</style>\n",
       "<table border=\"1\" class=\"dataframe\">\n",
       "  <thead>\n",
       "    <tr style=\"text-align: right;\">\n",
       "      <th></th>\n",
       "      <th>ID</th>\n",
       "      <th>FLTID</th>\n",
       "      <th>DEPSTN</th>\n",
       "      <th>ARRSTN</th>\n",
       "      <th>STATUS</th>\n",
       "      <th>target</th>\n",
       "      <th>STD_year</th>\n",
       "      <th>STD_month</th>\n",
       "      <th>STD_day</th>\n",
       "      <th>STD_h</th>\n",
       "      <th>STD_m</th>\n",
       "      <th>STA_year</th>\n",
       "      <th>STA_month</th>\n",
       "      <th>STA_day</th>\n",
       "      <th>STA_h</th>\n",
       "      <th>STA_m</th>\n",
       "      <th>AC_country</th>\n",
       "      <th>AC_model</th>\n",
       "    </tr>\n",
       "  </thead>\n",
       "  <tbody>\n",
       "    <tr>\n",
       "      <th>0</th>\n",
       "      <td>train_id_0</td>\n",
       "      <td>TU 0712</td>\n",
       "      <td>CMN</td>\n",
       "      <td>Other</td>\n",
       "      <td>ATA</td>\n",
       "      <td>260.0</td>\n",
       "      <td>2016</td>\n",
       "      <td>1</td>\n",
       "      <td>3</td>\n",
       "      <td>10</td>\n",
       "      <td>30</td>\n",
       "      <td>2016</td>\n",
       "      <td>1</td>\n",
       "      <td>3</td>\n",
       "      <td>12</td>\n",
       "      <td>55</td>\n",
       "      <td>TU</td>\n",
       "      <td>32AIMN</td>\n",
       "    </tr>\n",
       "    <tr>\n",
       "      <th>1</th>\n",
       "      <td>train_id_1</td>\n",
       "      <td>TU 0757</td>\n",
       "      <td>Other</td>\n",
       "      <td>Other</td>\n",
       "      <td>ATA</td>\n",
       "      <td>20.0</td>\n",
       "      <td>2016</td>\n",
       "      <td>1</td>\n",
       "      <td>13</td>\n",
       "      <td>15</td>\n",
       "      <td>5</td>\n",
       "      <td>2016</td>\n",
       "      <td>1</td>\n",
       "      <td>13</td>\n",
       "      <td>16</td>\n",
       "      <td>55</td>\n",
       "      <td>TU</td>\n",
       "      <td>31BIMO</td>\n",
       "    </tr>\n",
       "    <tr>\n",
       "      <th>2</th>\n",
       "      <td>train_id_2</td>\n",
       "      <td>TU 0214</td>\n",
       "      <td>Other</td>\n",
       "      <td>Other</td>\n",
       "      <td>ATA</td>\n",
       "      <td>0.0</td>\n",
       "      <td>2016</td>\n",
       "      <td>1</td>\n",
       "      <td>16</td>\n",
       "      <td>4</td>\n",
       "      <td>10</td>\n",
       "      <td>2016</td>\n",
       "      <td>1</td>\n",
       "      <td>16</td>\n",
       "      <td>6</td>\n",
       "      <td>45</td>\n",
       "      <td>TU</td>\n",
       "      <td>32AIMN</td>\n",
       "    </tr>\n",
       "    <tr>\n",
       "      <th>3</th>\n",
       "      <td>train_id_3</td>\n",
       "      <td>TU 0480</td>\n",
       "      <td>Other</td>\n",
       "      <td>NTE</td>\n",
       "      <td>ATA</td>\n",
       "      <td>0.0</td>\n",
       "      <td>2016</td>\n",
       "      <td>1</td>\n",
       "      <td>17</td>\n",
       "      <td>14</td>\n",
       "      <td>10</td>\n",
       "      <td>2016</td>\n",
       "      <td>1</td>\n",
       "      <td>17</td>\n",
       "      <td>17</td>\n",
       "      <td>0</td>\n",
       "      <td>TU</td>\n",
       "      <td>736IOK</td>\n",
       "    </tr>\n",
       "    <tr>\n",
       "      <th>4</th>\n",
       "      <td>train_id_4</td>\n",
       "      <td>TU 0338</td>\n",
       "      <td>Other</td>\n",
       "      <td>Other</td>\n",
       "      <td>ATA</td>\n",
       "      <td>22.0</td>\n",
       "      <td>2016</td>\n",
       "      <td>1</td>\n",
       "      <td>17</td>\n",
       "      <td>14</td>\n",
       "      <td>30</td>\n",
       "      <td>2016</td>\n",
       "      <td>1</td>\n",
       "      <td>17</td>\n",
       "      <td>15</td>\n",
       "      <td>50</td>\n",
       "      <td>TU</td>\n",
       "      <td>320IMU</td>\n",
       "    </tr>\n",
       "  </tbody>\n",
       "</table>\n",
       "</div>"
      ],
      "text/plain": [
       "           ID     FLTID DEPSTN ARRSTN STATUS  target  STD_year  STD_month  \\\n",
       "0  train_id_0  TU 0712     CMN  Other    ATA   260.0      2016          1   \n",
       "1  train_id_1  TU 0757   Other  Other    ATA    20.0      2016          1   \n",
       "2  train_id_2  TU 0214   Other  Other    ATA     0.0      2016          1   \n",
       "3  train_id_3  TU 0480   Other    NTE    ATA     0.0      2016          1   \n",
       "4  train_id_4  TU 0338   Other  Other    ATA    22.0      2016          1   \n",
       "\n",
       "   STD_day  STD_h  STD_m  STA_year  STA_month  STA_day  STA_h  STA_m  \\\n",
       "0        3     10     30      2016          1        3     12     55   \n",
       "1       13     15      5      2016          1       13     16     55   \n",
       "2       16      4     10      2016          1       16      6     45   \n",
       "3       17     14     10      2016          1       17     17      0   \n",
       "4       17     14     30      2016          1       17     15     50   \n",
       "\n",
       "  AC_country AC_model  \n",
       "0         TU   32AIMN  \n",
       "1         TU   31BIMO  \n",
       "2         TU   32AIMN  \n",
       "3         TU   736IOK  \n",
       "4         TU   320IMU  "
      ]
     },
     "execution_count": 312,
     "metadata": {},
     "output_type": "execute_result"
    }
   ],
   "source": [
    "# split AC column\n",
    "data.head()\n",
    "new_ac_cols = pd.DataFrame(data.AC.str.split(' ', 1).tolist(),\n",
    "                                   columns = ['AC_country','AC_model'])\n",
    "data['AC_country'] = new_ac_cols.AC_country\n",
    "data['AC_model'] = new_ac_cols.AC_model\n",
    "\n",
    "data = data.drop(['AC'], axis = 1)\n",
    "data.head()"
   ]
  },
  {
   "cell_type": "code",
   "execution_count": 314,
   "metadata": {
    "scrolled": true
   },
   "outputs": [
    {
     "data": {
      "text/plain": [
       "320IMU    5194\n",
       "320IMW    5094\n",
       "320IMV    5054\n",
       "320IMT    5020\n",
       "320IMR    4984\n",
       "320IMS    4662\n",
       "32AIML    4512\n",
       "32AIMP    4461\n",
       "31BIMQ    4416\n",
       "32AIMG    4289\n",
       "Name: AC_model, dtype: int64"
      ]
     },
     "execution_count": 314,
     "metadata": {},
     "output_type": "execute_result"
    }
   ],
   "source": [
    "data.ARRSTN.value_counts()\n",
    "data.AC_country.value_counts()\n",
    "data.AC_model.value_counts().head(10)"
   ]
  },
  {
   "cell_type": "code",
   "execution_count": 315,
   "metadata": {},
   "outputs": [],
   "source": [
    "#ac_model_most = ['320IMU', '320IMW', '320IMV', '320IMT', '320IMR', '320IMS', '32AIML', '32AIMP', '31BIMQ', '32AIMG']\n",
    "#data.AC_model = data.AC_model.apply(lambda x: 'Other' if x in ac_model_most else x)"
   ]
  },
  {
   "cell_type": "code",
   "execution_count": 323,
   "metadata": {},
   "outputs": [],
   "source": [
    "data['AC_model2'] = data.AC_model.str[3:]\n",
    "data.AC_model = data.AC_model.str[:3]"
   ]
  },
  {
   "cell_type": "code",
   "execution_count": 324,
   "metadata": {},
   "outputs": [
    {
     "data": {
      "text/html": [
       "<div>\n",
       "<style scoped>\n",
       "    .dataframe tbody tr th:only-of-type {\n",
       "        vertical-align: middle;\n",
       "    }\n",
       "\n",
       "    .dataframe tbody tr th {\n",
       "        vertical-align: top;\n",
       "    }\n",
       "\n",
       "    .dataframe thead th {\n",
       "        text-align: right;\n",
       "    }\n",
       "</style>\n",
       "<table border=\"1\" class=\"dataframe\">\n",
       "  <thead>\n",
       "    <tr style=\"text-align: right;\">\n",
       "      <th></th>\n",
       "      <th>ID</th>\n",
       "      <th>FLTID</th>\n",
       "      <th>DEPSTN</th>\n",
       "      <th>ARRSTN</th>\n",
       "      <th>STATUS</th>\n",
       "      <th>target</th>\n",
       "      <th>STD_year</th>\n",
       "      <th>STD_month</th>\n",
       "      <th>STD_day</th>\n",
       "      <th>STD_h</th>\n",
       "      <th>STD_m</th>\n",
       "      <th>STA_year</th>\n",
       "      <th>STA_month</th>\n",
       "      <th>STA_day</th>\n",
       "      <th>STA_h</th>\n",
       "      <th>STA_m</th>\n",
       "      <th>AC_country</th>\n",
       "      <th>AC_model</th>\n",
       "      <th>AC_model2</th>\n",
       "    </tr>\n",
       "  </thead>\n",
       "  <tbody>\n",
       "    <tr>\n",
       "      <th>0</th>\n",
       "      <td>train_id_0</td>\n",
       "      <td>TU 0712</td>\n",
       "      <td>CMN</td>\n",
       "      <td>Other</td>\n",
       "      <td>ATA</td>\n",
       "      <td>260.0</td>\n",
       "      <td>2016</td>\n",
       "      <td>1</td>\n",
       "      <td>3</td>\n",
       "      <td>10</td>\n",
       "      <td>30</td>\n",
       "      <td>2016</td>\n",
       "      <td>1</td>\n",
       "      <td>3</td>\n",
       "      <td>12</td>\n",
       "      <td>55</td>\n",
       "      <td>TU</td>\n",
       "      <td>32A</td>\n",
       "      <td></td>\n",
       "    </tr>\n",
       "    <tr>\n",
       "      <th>1</th>\n",
       "      <td>train_id_1</td>\n",
       "      <td>TU 0757</td>\n",
       "      <td>Other</td>\n",
       "      <td>Other</td>\n",
       "      <td>ATA</td>\n",
       "      <td>20.0</td>\n",
       "      <td>2016</td>\n",
       "      <td>1</td>\n",
       "      <td>13</td>\n",
       "      <td>15</td>\n",
       "      <td>5</td>\n",
       "      <td>2016</td>\n",
       "      <td>1</td>\n",
       "      <td>13</td>\n",
       "      <td>16</td>\n",
       "      <td>55</td>\n",
       "      <td>TU</td>\n",
       "      <td>31B</td>\n",
       "      <td></td>\n",
       "    </tr>\n",
       "    <tr>\n",
       "      <th>2</th>\n",
       "      <td>train_id_2</td>\n",
       "      <td>TU 0214</td>\n",
       "      <td>Other</td>\n",
       "      <td>Other</td>\n",
       "      <td>ATA</td>\n",
       "      <td>0.0</td>\n",
       "      <td>2016</td>\n",
       "      <td>1</td>\n",
       "      <td>16</td>\n",
       "      <td>4</td>\n",
       "      <td>10</td>\n",
       "      <td>2016</td>\n",
       "      <td>1</td>\n",
       "      <td>16</td>\n",
       "      <td>6</td>\n",
       "      <td>45</td>\n",
       "      <td>TU</td>\n",
       "      <td>32A</td>\n",
       "      <td></td>\n",
       "    </tr>\n",
       "    <tr>\n",
       "      <th>3</th>\n",
       "      <td>train_id_3</td>\n",
       "      <td>TU 0480</td>\n",
       "      <td>Other</td>\n",
       "      <td>NTE</td>\n",
       "      <td>ATA</td>\n",
       "      <td>0.0</td>\n",
       "      <td>2016</td>\n",
       "      <td>1</td>\n",
       "      <td>17</td>\n",
       "      <td>14</td>\n",
       "      <td>10</td>\n",
       "      <td>2016</td>\n",
       "      <td>1</td>\n",
       "      <td>17</td>\n",
       "      <td>17</td>\n",
       "      <td>0</td>\n",
       "      <td>TU</td>\n",
       "      <td>736</td>\n",
       "      <td></td>\n",
       "    </tr>\n",
       "    <tr>\n",
       "      <th>4</th>\n",
       "      <td>train_id_4</td>\n",
       "      <td>TU 0338</td>\n",
       "      <td>Other</td>\n",
       "      <td>Other</td>\n",
       "      <td>ATA</td>\n",
       "      <td>22.0</td>\n",
       "      <td>2016</td>\n",
       "      <td>1</td>\n",
       "      <td>17</td>\n",
       "      <td>14</td>\n",
       "      <td>30</td>\n",
       "      <td>2016</td>\n",
       "      <td>1</td>\n",
       "      <td>17</td>\n",
       "      <td>15</td>\n",
       "      <td>50</td>\n",
       "      <td>TU</td>\n",
       "      <td>320</td>\n",
       "      <td></td>\n",
       "    </tr>\n",
       "  </tbody>\n",
       "</table>\n",
       "</div>"
      ],
      "text/plain": [
       "           ID     FLTID DEPSTN ARRSTN STATUS  target  STD_year  STD_month  \\\n",
       "0  train_id_0  TU 0712     CMN  Other    ATA   260.0      2016          1   \n",
       "1  train_id_1  TU 0757   Other  Other    ATA    20.0      2016          1   \n",
       "2  train_id_2  TU 0214   Other  Other    ATA     0.0      2016          1   \n",
       "3  train_id_3  TU 0480   Other    NTE    ATA     0.0      2016          1   \n",
       "4  train_id_4  TU 0338   Other  Other    ATA    22.0      2016          1   \n",
       "\n",
       "   STD_day  STD_h  STD_m  STA_year  STA_month  STA_day  STA_h  STA_m  \\\n",
       "0        3     10     30      2016          1        3     12     55   \n",
       "1       13     15      5      2016          1       13     16     55   \n",
       "2       16      4     10      2016          1       16      6     45   \n",
       "3       17     14     10      2016          1       17     17      0   \n",
       "4       17     14     30      2016          1       17     15     50   \n",
       "\n",
       "  AC_country AC_model AC_model2  \n",
       "0         TU      32A            \n",
       "1         TU      31B            \n",
       "2         TU      32A            \n",
       "3         TU      736            \n",
       "4         TU      320            "
      ]
     },
     "execution_count": 324,
     "metadata": {},
     "output_type": "execute_result"
    }
   ],
   "source": [
    "data.head()"
   ]
  },
  {
   "cell_type": "code",
   "execution_count": 325,
   "metadata": {},
   "outputs": [],
   "source": [
    "from sklearn.preprocessing import LabelEncoder\n",
    "from sklearn.preprocessing import StandardScaler\n",
    "from sklearn.preprocessing import OneHotEncoder\n",
    "encoder = LabelEncoder()\n",
    "scaler = StandardScaler()\n",
    "one_hot_encoder = OneHotEncoder()"
   ]
  },
  {
   "cell_type": "code",
   "execution_count": 326,
   "metadata": {
    "scrolled": true
   },
   "outputs": [
    {
     "data": {
      "text/html": [
       "<div>\n",
       "<style scoped>\n",
       "    .dataframe tbody tr th:only-of-type {\n",
       "        vertical-align: middle;\n",
       "    }\n",
       "\n",
       "    .dataframe tbody tr th {\n",
       "        vertical-align: top;\n",
       "    }\n",
       "\n",
       "    .dataframe thead th {\n",
       "        text-align: right;\n",
       "    }\n",
       "</style>\n",
       "<table border=\"1\" class=\"dataframe\">\n",
       "  <thead>\n",
       "    <tr style=\"text-align: right;\">\n",
       "      <th></th>\n",
       "      <th>DEPSTN</th>\n",
       "      <th>ARRSTN</th>\n",
       "      <th>STATUS</th>\n",
       "      <th>STD_year</th>\n",
       "      <th>STD_month</th>\n",
       "      <th>STD_day</th>\n",
       "      <th>STD_h</th>\n",
       "      <th>STD_m</th>\n",
       "      <th>STA_year</th>\n",
       "      <th>STA_month</th>\n",
       "      <th>STA_day</th>\n",
       "      <th>STA_h</th>\n",
       "      <th>STA_m</th>\n",
       "      <th>AC_country</th>\n",
       "      <th>AC_model</th>\n",
       "      <th>AC_model2</th>\n",
       "    </tr>\n",
       "  </thead>\n",
       "  <tbody>\n",
       "    <tr>\n",
       "      <th>0</th>\n",
       "      <td>CMN</td>\n",
       "      <td>Other</td>\n",
       "      <td>ATA</td>\n",
       "      <td>2016</td>\n",
       "      <td>1</td>\n",
       "      <td>3</td>\n",
       "      <td>10</td>\n",
       "      <td>30</td>\n",
       "      <td>2016</td>\n",
       "      <td>1</td>\n",
       "      <td>3</td>\n",
       "      <td>12</td>\n",
       "      <td>55</td>\n",
       "      <td>TU</td>\n",
       "      <td>32A</td>\n",
       "      <td></td>\n",
       "    </tr>\n",
       "    <tr>\n",
       "      <th>1</th>\n",
       "      <td>Other</td>\n",
       "      <td>Other</td>\n",
       "      <td>ATA</td>\n",
       "      <td>2016</td>\n",
       "      <td>1</td>\n",
       "      <td>13</td>\n",
       "      <td>15</td>\n",
       "      <td>5</td>\n",
       "      <td>2016</td>\n",
       "      <td>1</td>\n",
       "      <td>13</td>\n",
       "      <td>16</td>\n",
       "      <td>55</td>\n",
       "      <td>TU</td>\n",
       "      <td>31B</td>\n",
       "      <td></td>\n",
       "    </tr>\n",
       "    <tr>\n",
       "      <th>2</th>\n",
       "      <td>Other</td>\n",
       "      <td>Other</td>\n",
       "      <td>ATA</td>\n",
       "      <td>2016</td>\n",
       "      <td>1</td>\n",
       "      <td>16</td>\n",
       "      <td>4</td>\n",
       "      <td>10</td>\n",
       "      <td>2016</td>\n",
       "      <td>1</td>\n",
       "      <td>16</td>\n",
       "      <td>6</td>\n",
       "      <td>45</td>\n",
       "      <td>TU</td>\n",
       "      <td>32A</td>\n",
       "      <td></td>\n",
       "    </tr>\n",
       "    <tr>\n",
       "      <th>3</th>\n",
       "      <td>Other</td>\n",
       "      <td>NTE</td>\n",
       "      <td>ATA</td>\n",
       "      <td>2016</td>\n",
       "      <td>1</td>\n",
       "      <td>17</td>\n",
       "      <td>14</td>\n",
       "      <td>10</td>\n",
       "      <td>2016</td>\n",
       "      <td>1</td>\n",
       "      <td>17</td>\n",
       "      <td>17</td>\n",
       "      <td>0</td>\n",
       "      <td>TU</td>\n",
       "      <td>736</td>\n",
       "      <td></td>\n",
       "    </tr>\n",
       "    <tr>\n",
       "      <th>4</th>\n",
       "      <td>Other</td>\n",
       "      <td>Other</td>\n",
       "      <td>ATA</td>\n",
       "      <td>2016</td>\n",
       "      <td>1</td>\n",
       "      <td>17</td>\n",
       "      <td>14</td>\n",
       "      <td>30</td>\n",
       "      <td>2016</td>\n",
       "      <td>1</td>\n",
       "      <td>17</td>\n",
       "      <td>15</td>\n",
       "      <td>50</td>\n",
       "      <td>TU</td>\n",
       "      <td>320</td>\n",
       "      <td></td>\n",
       "    </tr>\n",
       "  </tbody>\n",
       "</table>\n",
       "</div>"
      ],
      "text/plain": [
       "  DEPSTN ARRSTN STATUS  STD_year  STD_month  STD_day  STD_h  STD_m  STA_year  \\\n",
       "0    CMN  Other    ATA      2016          1        3     10     30      2016   \n",
       "1  Other  Other    ATA      2016          1       13     15      5      2016   \n",
       "2  Other  Other    ATA      2016          1       16      4     10      2016   \n",
       "3  Other    NTE    ATA      2016          1       17     14     10      2016   \n",
       "4  Other  Other    ATA      2016          1       17     14     30      2016   \n",
       "\n",
       "   STA_month  STA_day  STA_h  STA_m AC_country AC_model AC_model2  \n",
       "0          1        3     12     55         TU      32A            \n",
       "1          1       13     16     55         TU      31B            \n",
       "2          1       16      6     45         TU      32A            \n",
       "3          1       17     17      0         TU      736            \n",
       "4          1       17     15     50         TU      320            "
      ]
     },
     "execution_count": 326,
     "metadata": {},
     "output_type": "execute_result"
    }
   ],
   "source": [
    "# data = pd.read_csv('datasets/Train.csv')\n",
    "y = data['target']\n",
    "X = data.drop(['ID', 'FLTID', 'target'], axis = 1)\n",
    "X.head()"
   ]
  },
  {
   "cell_type": "code",
   "execution_count": 327,
   "metadata": {},
   "outputs": [],
   "source": [
    "X.STD_year = X.STA_year"
   ]
  },
  {
   "cell_type": "code",
   "execution_count": 328,
   "metadata": {},
   "outputs": [
    {
     "data": {
      "text/html": [
       "<div>\n",
       "<style scoped>\n",
       "    .dataframe tbody tr th:only-of-type {\n",
       "        vertical-align: middle;\n",
       "    }\n",
       "\n",
       "    .dataframe tbody tr th {\n",
       "        vertical-align: top;\n",
       "    }\n",
       "\n",
       "    .dataframe thead th {\n",
       "        text-align: right;\n",
       "    }\n",
       "</style>\n",
       "<table border=\"1\" class=\"dataframe\">\n",
       "  <thead>\n",
       "    <tr style=\"text-align: right;\">\n",
       "      <th></th>\n",
       "      <th>STD_year</th>\n",
       "      <th>STD_month</th>\n",
       "      <th>STD_day</th>\n",
       "      <th>STD_h</th>\n",
       "      <th>STD_m</th>\n",
       "      <th>STA_year</th>\n",
       "      <th>STA_month</th>\n",
       "      <th>STA_day</th>\n",
       "      <th>STA_h</th>\n",
       "      <th>STA_m</th>\n",
       "      <th>...</th>\n",
       "      <th>AC_model_343</th>\n",
       "      <th>AC_model_345</th>\n",
       "      <th>AC_model_733</th>\n",
       "      <th>AC_model_734</th>\n",
       "      <th>AC_model_736</th>\n",
       "      <th>AC_model_738</th>\n",
       "      <th>AC_model_AT7</th>\n",
       "      <th>AC_model_CR9</th>\n",
       "      <th>AC_model_M87</th>\n",
       "      <th>AC_model2_</th>\n",
       "    </tr>\n",
       "  </thead>\n",
       "  <tbody>\n",
       "    <tr>\n",
       "      <th>0</th>\n",
       "      <td>2016</td>\n",
       "      <td>1</td>\n",
       "      <td>3</td>\n",
       "      <td>10</td>\n",
       "      <td>30</td>\n",
       "      <td>2016</td>\n",
       "      <td>1</td>\n",
       "      <td>3</td>\n",
       "      <td>12</td>\n",
       "      <td>55</td>\n",
       "      <td>...</td>\n",
       "      <td>0</td>\n",
       "      <td>0</td>\n",
       "      <td>0</td>\n",
       "      <td>0</td>\n",
       "      <td>0</td>\n",
       "      <td>0</td>\n",
       "      <td>0</td>\n",
       "      <td>0</td>\n",
       "      <td>0</td>\n",
       "      <td>1</td>\n",
       "    </tr>\n",
       "    <tr>\n",
       "      <th>1</th>\n",
       "      <td>2016</td>\n",
       "      <td>1</td>\n",
       "      <td>13</td>\n",
       "      <td>15</td>\n",
       "      <td>5</td>\n",
       "      <td>2016</td>\n",
       "      <td>1</td>\n",
       "      <td>13</td>\n",
       "      <td>16</td>\n",
       "      <td>55</td>\n",
       "      <td>...</td>\n",
       "      <td>0</td>\n",
       "      <td>0</td>\n",
       "      <td>0</td>\n",
       "      <td>0</td>\n",
       "      <td>0</td>\n",
       "      <td>0</td>\n",
       "      <td>0</td>\n",
       "      <td>0</td>\n",
       "      <td>0</td>\n",
       "      <td>1</td>\n",
       "    </tr>\n",
       "    <tr>\n",
       "      <th>2</th>\n",
       "      <td>2016</td>\n",
       "      <td>1</td>\n",
       "      <td>16</td>\n",
       "      <td>4</td>\n",
       "      <td>10</td>\n",
       "      <td>2016</td>\n",
       "      <td>1</td>\n",
       "      <td>16</td>\n",
       "      <td>6</td>\n",
       "      <td>45</td>\n",
       "      <td>...</td>\n",
       "      <td>0</td>\n",
       "      <td>0</td>\n",
       "      <td>0</td>\n",
       "      <td>0</td>\n",
       "      <td>0</td>\n",
       "      <td>0</td>\n",
       "      <td>0</td>\n",
       "      <td>0</td>\n",
       "      <td>0</td>\n",
       "      <td>1</td>\n",
       "    </tr>\n",
       "    <tr>\n",
       "      <th>3</th>\n",
       "      <td>2016</td>\n",
       "      <td>1</td>\n",
       "      <td>17</td>\n",
       "      <td>14</td>\n",
       "      <td>10</td>\n",
       "      <td>2016</td>\n",
       "      <td>1</td>\n",
       "      <td>17</td>\n",
       "      <td>17</td>\n",
       "      <td>0</td>\n",
       "      <td>...</td>\n",
       "      <td>0</td>\n",
       "      <td>0</td>\n",
       "      <td>0</td>\n",
       "      <td>0</td>\n",
       "      <td>1</td>\n",
       "      <td>0</td>\n",
       "      <td>0</td>\n",
       "      <td>0</td>\n",
       "      <td>0</td>\n",
       "      <td>1</td>\n",
       "    </tr>\n",
       "    <tr>\n",
       "      <th>4</th>\n",
       "      <td>2016</td>\n",
       "      <td>1</td>\n",
       "      <td>17</td>\n",
       "      <td>14</td>\n",
       "      <td>30</td>\n",
       "      <td>2016</td>\n",
       "      <td>1</td>\n",
       "      <td>17</td>\n",
       "      <td>15</td>\n",
       "      <td>50</td>\n",
       "      <td>...</td>\n",
       "      <td>0</td>\n",
       "      <td>0</td>\n",
       "      <td>0</td>\n",
       "      <td>0</td>\n",
       "      <td>0</td>\n",
       "      <td>0</td>\n",
       "      <td>0</td>\n",
       "      <td>0</td>\n",
       "      <td>0</td>\n",
       "      <td>1</td>\n",
       "    </tr>\n",
       "  </tbody>\n",
       "</table>\n",
       "<p>5 rows × 292 columns</p>\n",
       "</div>"
      ],
      "text/plain": [
       "   STD_year  STD_month  STD_day  STD_h  STD_m  STA_year  STA_month  STA_day  \\\n",
       "0      2016          1        3     10     30      2016          1        3   \n",
       "1      2016          1       13     15      5      2016          1       13   \n",
       "2      2016          1       16      4     10      2016          1       16   \n",
       "3      2016          1       17     14     10      2016          1       17   \n",
       "4      2016          1       17     14     30      2016          1       17   \n",
       "\n",
       "   STA_h  STA_m     ...      AC_model_343  AC_model_345  AC_model_733  \\\n",
       "0     12     55     ...                 0             0             0   \n",
       "1     16     55     ...                 0             0             0   \n",
       "2      6     45     ...                 0             0             0   \n",
       "3     17      0     ...                 0             0             0   \n",
       "4     15     50     ...                 0             0             0   \n",
       "\n",
       "   AC_model_734  AC_model_736  AC_model_738  AC_model_AT7  AC_model_CR9  \\\n",
       "0             0             0             0             0             0   \n",
       "1             0             0             0             0             0   \n",
       "2             0             0             0             0             0   \n",
       "3             0             1             0             0             0   \n",
       "4             0             0             0             0             0   \n",
       "\n",
       "   AC_model_M87  AC_model2_  \n",
       "0             0           1  \n",
       "1             0           1  \n",
       "2             0           1  \n",
       "3             0           1  \n",
       "4             0           1  \n",
       "\n",
       "[5 rows x 292 columns]"
      ]
     },
     "execution_count": 328,
     "metadata": {},
     "output_type": "execute_result"
    }
   ],
   "source": [
    "def get_dummies_col(d, col_name):\n",
    "    new_col = pd.DataFrame(d[col_name])\n",
    "    new_col = pd.get_dummies(new_col)\n",
    "    d = d.drop([col_name], axis = 1)\n",
    "    d = pd.concat([d, new_col], axis = 1)\n",
    "    return d\n",
    "\n",
    "X = get_dummies_col(X, 'ARRSTN')\n",
    "X = get_dummies_col(X, 'STATUS')\n",
    "X = get_dummies_col(X, 'DEPSTN')\n",
    "X = get_dummies_col(X, 'AC_country')\n",
    "X = get_dummies_col(X, 'AC_model')\n",
    "X = get_dummies_col(X, 'AC_model2')\n",
    "X.head()"
   ]
  },
  {
   "cell_type": "code",
   "execution_count": 329,
   "metadata": {
    "scrolled": true
   },
   "outputs": [],
   "source": [
    "# X = X.drop(['DATOP', 'STD', 'STA'], axis = 1)"
   ]
  },
  {
   "cell_type": "code",
   "execution_count": 330,
   "metadata": {},
   "outputs": [],
   "source": [
    "#scaler = StandardScaler()\n",
    "#X = scaler.fit_transform(X)"
   ]
  },
  {
   "cell_type": "code",
   "execution_count": 331,
   "metadata": {},
   "outputs": [
    {
     "data": {
      "text/plain": [
       "((9333, 292), (117166, 292))"
      ]
     },
     "execution_count": 331,
     "metadata": {},
     "output_type": "execute_result"
    }
   ],
   "source": [
    "# for test\n",
    "test_data = pd.DataFrame(X).iloc[dataset.shape[0]:,:]\n",
    "test_data.shape , X.shape"
   ]
  },
  {
   "cell_type": "code",
   "execution_count": 332,
   "metadata": {},
   "outputs": [
    {
     "data": {
      "text/plain": [
       "((107833, 292), (9333, 292))"
      ]
     },
     "execution_count": 332,
     "metadata": {},
     "output_type": "execute_result"
    }
   ],
   "source": [
    "# for train\n",
    "Xtrain_kbira = pd.DataFrame(X).iloc[:dataset.shape[0],:]\n",
    "Xtest_kbira = pd.DataFrame(X).iloc[dataset.shape[0]:,:]\n",
    "Xtrain_kbira.shape , Xtest_kbira.shape"
   ]
  },
  {
   "cell_type": "code",
   "execution_count": 333,
   "metadata": {},
   "outputs": [],
   "source": [
    "ykbira = dataset.target"
   ]
  },
  {
   "cell_type": "markdown",
   "metadata": {},
   "source": [
    "### Train part"
   ]
  },
  {
   "cell_type": "code",
   "execution_count": 334,
   "metadata": {},
   "outputs": [],
   "source": [
    "from sklearn.model_selection import train_test_split\n",
    "x_train, x_test, y_train, y_test = train_test_split(Xtrain_kbira, ykbira, test_size = 0.00001)"
   ]
  },
  {
   "cell_type": "code",
   "execution_count": 335,
   "metadata": {},
   "outputs": [],
   "source": [
    "from sklearn.metrics import mean_squared_error\n",
    "def evaluate(reg):\n",
    "    y_pred = reg.predict(x_test)\n",
    "    result = np.sqrt(mean_squared_error(y_pred, y_test))\n",
    "    print(result)"
   ]
  },
  {
   "cell_type": "code",
   "execution_count": null,
   "metadata": {
    "scrolled": true
   },
   "outputs": [],
   "source": []
  },
  {
   "cell_type": "code",
   "execution_count": 287,
   "metadata": {},
   "outputs": [
    {
     "data": {
      "text/plain": [
       "DecisionTreeRegressor(criterion='mse', max_depth=None, max_features=None,\n",
       "           max_leaf_nodes=None, min_impurity_decrease=0.0,\n",
       "           min_impurity_split=None, min_samples_leaf=1,\n",
       "           min_samples_split=2, min_weight_fraction_leaf=0.0,\n",
       "           presort=False, random_state=None, splitter='best')"
      ]
     },
     "execution_count": 287,
     "metadata": {},
     "output_type": "execute_result"
    }
   ],
   "source": [
    "# Decision tree\n",
    "from sklearn.tree import DecisionTreeRegressor\n",
    "desicion_tree = DecisionTreeRegressor()\n",
    "desicion_tree.fit(x_train, y_train)"
   ]
  },
  {
   "cell_type": "code",
   "execution_count": 288,
   "metadata": {
    "scrolled": true
   },
   "outputs": [
    {
     "name": "stdout",
     "output_type": "stream",
     "text": [
      "30.405591591021544\n"
     ]
    }
   ],
   "source": [
    "evaluate(desicion_tree)"
   ]
  },
  {
   "cell_type": "code",
   "execution_count": 336,
   "metadata": {},
   "outputs": [
    {
     "data": {
      "text/plain": [
       "RandomForestRegressor(bootstrap=True, criterion='mse', max_depth=None,\n",
       "           max_features='auto', max_leaf_nodes=None,\n",
       "           min_impurity_decrease=0.0, min_impurity_split=None,\n",
       "           min_samples_leaf=1, min_samples_split=2,\n",
       "           min_weight_fraction_leaf=0.0, n_estimators=30, n_jobs=1,\n",
       "           oob_score=False, random_state=None, verbose=0, warm_start=False)"
      ]
     },
     "execution_count": 336,
     "metadata": {},
     "output_type": "execute_result"
    }
   ],
   "source": [
    "from sklearn.ensemble import RandomForestRegressor\n",
    "random_forest = RandomForestRegressor(n_estimators=30)\n",
    "random_forest.fit(x_train, y_train)"
   ]
  },
  {
   "cell_type": "code",
   "execution_count": 337,
   "metadata": {},
   "outputs": [
    {
     "name": "stdout",
     "output_type": "stream",
     "text": [
      "111.18698215168895\n"
     ]
    }
   ],
   "source": [
    "evaluate(random_forest)"
   ]
  },
  {
   "cell_type": "code",
   "execution_count": 291,
   "metadata": {},
   "outputs": [
    {
     "data": {
      "text/plain": [
       "LinearRegression(copy_X=True, fit_intercept=True, n_jobs=1, normalize=False)"
      ]
     },
     "execution_count": 291,
     "metadata": {},
     "output_type": "execute_result"
    }
   ],
   "source": [
    "from sklearn.linear_model import LinearRegression\n",
    "lr = LinearRegression()\n",
    "lr.fit(x_train,y_train)"
   ]
  },
  {
   "cell_type": "code",
   "execution_count": 292,
   "metadata": {},
   "outputs": [
    {
     "name": "stdout",
     "output_type": "stream",
     "text": [
      "10.286520533514489\n"
     ]
    }
   ],
   "source": [
    "evaluate(lr)"
   ]
  },
  {
   "cell_type": "code",
   "execution_count": 293,
   "metadata": {},
   "outputs": [],
   "source": [
    "#from sklearn.svm import SVR\n",
    "#svm_svr = SVR()\n",
    "#svm_svr.fit(x_train, y_train)"
   ]
  },
  {
   "cell_type": "code",
   "execution_count": 294,
   "metadata": {},
   "outputs": [],
   "source": [
    "#evaluate(svm_svr)"
   ]
  },
  {
   "cell_type": "code",
   "execution_count": 295,
   "metadata": {},
   "outputs": [],
   "source": [
    "#from sklearn.neighbors import KNeighborsRegressor\n",
    "#knn = KNeighborsRegressor(1)\n",
    "#knn.fit(x_train, y_train)"
   ]
  },
  {
   "cell_type": "code",
   "execution_count": 296,
   "metadata": {},
   "outputs": [],
   "source": [
    "#evaluate(knn)"
   ]
  },
  {
   "cell_type": "markdown",
   "metadata": {},
   "source": [
    "### Test"
   ]
  },
  {
   "cell_type": "code",
   "execution_count": 338,
   "metadata": {
    "scrolled": false
   },
   "outputs": [
    {
     "data": {
      "text/html": [
       "<div>\n",
       "<style scoped>\n",
       "    .dataframe tbody tr th:only-of-type {\n",
       "        vertical-align: middle;\n",
       "    }\n",
       "\n",
       "    .dataframe tbody tr th {\n",
       "        vertical-align: top;\n",
       "    }\n",
       "\n",
       "    .dataframe thead th {\n",
       "        text-align: right;\n",
       "    }\n",
       "</style>\n",
       "<table border=\"1\" class=\"dataframe\">\n",
       "  <thead>\n",
       "    <tr style=\"text-align: right;\">\n",
       "      <th></th>\n",
       "      <th>STD_year</th>\n",
       "      <th>STD_month</th>\n",
       "      <th>STD_day</th>\n",
       "      <th>STD_h</th>\n",
       "      <th>STD_m</th>\n",
       "      <th>STA_year</th>\n",
       "      <th>STA_month</th>\n",
       "      <th>STA_day</th>\n",
       "      <th>STA_h</th>\n",
       "      <th>STA_m</th>\n",
       "      <th>...</th>\n",
       "      <th>AC_model_343</th>\n",
       "      <th>AC_model_345</th>\n",
       "      <th>AC_model_733</th>\n",
       "      <th>AC_model_734</th>\n",
       "      <th>AC_model_736</th>\n",
       "      <th>AC_model_738</th>\n",
       "      <th>AC_model_AT7</th>\n",
       "      <th>AC_model_CR9</th>\n",
       "      <th>AC_model_M87</th>\n",
       "      <th>AC_model2_</th>\n",
       "    </tr>\n",
       "  </thead>\n",
       "  <tbody>\n",
       "    <tr>\n",
       "      <th>0</th>\n",
       "      <td>2016</td>\n",
       "      <td>5</td>\n",
       "      <td>4</td>\n",
       "      <td>6</td>\n",
       "      <td>40</td>\n",
       "      <td>2016</td>\n",
       "      <td>5</td>\n",
       "      <td>4</td>\n",
       "      <td>7</td>\n",
       "      <td>30</td>\n",
       "      <td>...</td>\n",
       "      <td>0</td>\n",
       "      <td>0</td>\n",
       "      <td>0</td>\n",
       "      <td>0</td>\n",
       "      <td>0</td>\n",
       "      <td>0</td>\n",
       "      <td>0</td>\n",
       "      <td>0</td>\n",
       "      <td>0</td>\n",
       "      <td>1</td>\n",
       "    </tr>\n",
       "    <tr>\n",
       "      <th>1</th>\n",
       "      <td>2016</td>\n",
       "      <td>5</td>\n",
       "      <td>5</td>\n",
       "      <td>15</td>\n",
       "      <td>20</td>\n",
       "      <td>2016</td>\n",
       "      <td>5</td>\n",
       "      <td>5</td>\n",
       "      <td>20</td>\n",
       "      <td>5</td>\n",
       "      <td>...</td>\n",
       "      <td>0</td>\n",
       "      <td>0</td>\n",
       "      <td>0</td>\n",
       "      <td>0</td>\n",
       "      <td>0</td>\n",
       "      <td>0</td>\n",
       "      <td>0</td>\n",
       "      <td>0</td>\n",
       "      <td>0</td>\n",
       "      <td>1</td>\n",
       "    </tr>\n",
       "    <tr>\n",
       "      <th>2</th>\n",
       "      <td>2016</td>\n",
       "      <td>5</td>\n",
       "      <td>6</td>\n",
       "      <td>10</td>\n",
       "      <td>0</td>\n",
       "      <td>2016</td>\n",
       "      <td>5</td>\n",
       "      <td>6</td>\n",
       "      <td>12</td>\n",
       "      <td>25</td>\n",
       "      <td>...</td>\n",
       "      <td>0</td>\n",
       "      <td>0</td>\n",
       "      <td>0</td>\n",
       "      <td>0</td>\n",
       "      <td>0</td>\n",
       "      <td>0</td>\n",
       "      <td>0</td>\n",
       "      <td>0</td>\n",
       "      <td>0</td>\n",
       "      <td>1</td>\n",
       "    </tr>\n",
       "    <tr>\n",
       "      <th>3</th>\n",
       "      <td>2016</td>\n",
       "      <td>5</td>\n",
       "      <td>11</td>\n",
       "      <td>9</td>\n",
       "      <td>40</td>\n",
       "      <td>2016</td>\n",
       "      <td>5</td>\n",
       "      <td>11</td>\n",
       "      <td>13</td>\n",
       "      <td>10</td>\n",
       "      <td>...</td>\n",
       "      <td>0</td>\n",
       "      <td>0</td>\n",
       "      <td>0</td>\n",
       "      <td>0</td>\n",
       "      <td>1</td>\n",
       "      <td>0</td>\n",
       "      <td>0</td>\n",
       "      <td>0</td>\n",
       "      <td>0</td>\n",
       "      <td>1</td>\n",
       "    </tr>\n",
       "    <tr>\n",
       "      <th>4</th>\n",
       "      <td>2016</td>\n",
       "      <td>5</td>\n",
       "      <td>11</td>\n",
       "      <td>9</td>\n",
       "      <td>50</td>\n",
       "      <td>2016</td>\n",
       "      <td>5</td>\n",
       "      <td>11</td>\n",
       "      <td>12</td>\n",
       "      <td>35</td>\n",
       "      <td>...</td>\n",
       "      <td>0</td>\n",
       "      <td>0</td>\n",
       "      <td>0</td>\n",
       "      <td>0</td>\n",
       "      <td>0</td>\n",
       "      <td>0</td>\n",
       "      <td>0</td>\n",
       "      <td>0</td>\n",
       "      <td>0</td>\n",
       "      <td>1</td>\n",
       "    </tr>\n",
       "  </tbody>\n",
       "</table>\n",
       "<p>5 rows × 292 columns</p>\n",
       "</div>"
      ],
      "text/plain": [
       "   STD_year  STD_month  STD_day  STD_h  STD_m  STA_year  STA_month  STA_day  \\\n",
       "0      2016          5        4      6     40      2016          5        4   \n",
       "1      2016          5        5     15     20      2016          5        5   \n",
       "2      2016          5        6     10      0      2016          5        6   \n",
       "3      2016          5       11      9     40      2016          5       11   \n",
       "4      2016          5       11      9     50      2016          5       11   \n",
       "\n",
       "   STA_h  STA_m     ...      AC_model_343  AC_model_345  AC_model_733  \\\n",
       "0      7     30     ...                 0             0             0   \n",
       "1     20      5     ...                 0             0             0   \n",
       "2     12     25     ...                 0             0             0   \n",
       "3     13     10     ...                 0             0             0   \n",
       "4     12     35     ...                 0             0             0   \n",
       "\n",
       "   AC_model_734  AC_model_736  AC_model_738  AC_model_AT7  AC_model_CR9  \\\n",
       "0             0             0             0             0             0   \n",
       "1             0             0             0             0             0   \n",
       "2             0             0             0             0             0   \n",
       "3             0             1             0             0             0   \n",
       "4             0             0             0             0             0   \n",
       "\n",
       "   AC_model_M87  AC_model2_  \n",
       "0             0           1  \n",
       "1             0           1  \n",
       "2             0           1  \n",
       "3             0           1  \n",
       "4             0           1  \n",
       "\n",
       "[5 rows x 292 columns]"
      ]
     },
     "execution_count": 338,
     "metadata": {},
     "output_type": "execute_result"
    }
   ],
   "source": [
    "test_data.head()"
   ]
  },
  {
   "cell_type": "code",
   "execution_count": 339,
   "metadata": {},
   "outputs": [],
   "source": [
    "#pd.DataFrame(test_set).head()"
   ]
  },
  {
   "cell_type": "code",
   "execution_count": 340,
   "metadata": {},
   "outputs": [],
   "source": [
    "prediction = random_forest.predict(Xtest_kbira)"
   ]
  },
  {
   "cell_type": "code",
   "execution_count": 341,
   "metadata": {},
   "outputs": [],
   "source": [
    "result_columns_list = list(zip(test.ID, prediction))\n",
    "result = pd.DataFrame(result_columns_list, columns = ['ID', 'target'])"
   ]
  },
  {
   "cell_type": "code",
   "execution_count": 342,
   "metadata": {},
   "outputs": [
    {
     "data": {
      "text/html": [
       "<div>\n",
       "<style scoped>\n",
       "    .dataframe tbody tr th:only-of-type {\n",
       "        vertical-align: middle;\n",
       "    }\n",
       "\n",
       "    .dataframe tbody tr th {\n",
       "        vertical-align: top;\n",
       "    }\n",
       "\n",
       "    .dataframe thead th {\n",
       "        text-align: right;\n",
       "    }\n",
       "</style>\n",
       "<table border=\"1\" class=\"dataframe\">\n",
       "  <thead>\n",
       "    <tr style=\"text-align: right;\">\n",
       "      <th></th>\n",
       "      <th>ID</th>\n",
       "      <th>target</th>\n",
       "    </tr>\n",
       "  </thead>\n",
       "  <tbody>\n",
       "    <tr>\n",
       "      <th>0</th>\n",
       "      <td>test_id_0</td>\n",
       "      <td>6.400000</td>\n",
       "    </tr>\n",
       "    <tr>\n",
       "      <th>1</th>\n",
       "      <td>test_id_1</td>\n",
       "      <td>25.633333</td>\n",
       "    </tr>\n",
       "    <tr>\n",
       "      <th>2</th>\n",
       "      <td>test_id_2</td>\n",
       "      <td>40.066667</td>\n",
       "    </tr>\n",
       "    <tr>\n",
       "      <th>3</th>\n",
       "      <td>test_id_3</td>\n",
       "      <td>21.966667</td>\n",
       "    </tr>\n",
       "    <tr>\n",
       "      <th>4</th>\n",
       "      <td>test_id_4</td>\n",
       "      <td>64.533333</td>\n",
       "    </tr>\n",
       "  </tbody>\n",
       "</table>\n",
       "</div>"
      ],
      "text/plain": [
       "          ID     target\n",
       "0  test_id_0   6.400000\n",
       "1  test_id_1  25.633333\n",
       "2  test_id_2  40.066667\n",
       "3  test_id_3  21.966667\n",
       "4  test_id_4  64.533333"
      ]
     },
     "execution_count": 342,
     "metadata": {},
     "output_type": "execute_result"
    }
   ],
   "source": [
    "result.head()"
   ]
  },
  {
   "cell_type": "code",
   "execution_count": 343,
   "metadata": {},
   "outputs": [],
   "source": [
    "# export result\n",
    "result.to_csv('SubmissionFile_3.csv', index=False)"
   ]
  },
  {
   "cell_type": "code",
   "execution_count": null,
   "metadata": {},
   "outputs": [],
   "source": []
  }
 ],
 "metadata": {
  "kernelspec": {
   "display_name": "Python 3",
   "language": "python",
   "name": "python3"
  },
  "language_info": {
   "codemirror_mode": {
    "name": "ipython",
    "version": 3
   },
   "file_extension": ".py",
   "mimetype": "text/x-python",
   "name": "python",
   "nbconvert_exporter": "python",
   "pygments_lexer": "ipython3",
   "version": "3.6.5"
  }
 },
 "nbformat": 4,
 "nbformat_minor": 2
}
